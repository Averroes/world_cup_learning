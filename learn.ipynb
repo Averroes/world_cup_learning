{
 "metadata": {
  "name": "",
  "signature": "sha256:7a62dd51e5d53d86de5305264120de72e042f51aad09c4621b2330b1a5be5143"
 },
 "nbformat": 3,
 "nbformat_minor": 0,
 "worksheets": [
  {
   "cells": [
    {
     "cell_type": "code",
     "collapsed": false,
     "input": [
      "from random import random\n",
      "\n",
      "from IPython.display import SVG\n",
      "import pygal\n",
      "from sklearn.neighbors import KNeighborsClassifier\n",
      "\n",
      "from utils import get_matches, get_team_stats, extract_samples, normalize, split_samples, graph_teams_stat_bars, graph_matches_results_scatter\n"
     ],
     "language": "python",
     "metadata": {},
     "outputs": []
    },
    {
     "cell_type": "markdown",
     "metadata": {},
     "source": [
      "Configs:"
     ]
    },
    {
     "cell_type": "code",
     "collapsed": false,
     "input": [
      "input_features = ['year',\n",
      "                  'matches_won_percent',\n",
      "                  'podium_score_yearly',\n",
      "                  'matches_won_percent_2',\n",
      "                  'podium_score_yearly_2']\n",
      "\n",
      "output_feature = 'winner'\n",
      "\n",
      "exclude_ties = True\n",
      "duplicate_with_reversed = True\n",
      "\n",
      "neighbors = 10"
     ],
     "language": "python",
     "metadata": {},
     "outputs": []
    },
    {
     "cell_type": "code",
     "collapsed": false,
     "input": [
      "def show(graph):\n",
      "    return SVG(graph.render())"
     ],
     "language": "python",
     "metadata": {},
     "outputs": []
    },
    {
     "cell_type": "code",
     "collapsed": false,
     "input": [
      "team_stats = get_team_stats()\n",
      "team_stats"
     ],
     "language": "python",
     "metadata": {},
     "outputs": []
    },
    {
     "cell_type": "code",
     "collapsed": false,
     "input": [
      "show(graph_teams_stat_bars(team_stats, 'matches_won_percent'))\n"
     ],
     "language": "python",
     "metadata": {},
     "outputs": []
    },
    {
     "cell_type": "code",
     "collapsed": false,
     "input": [
      "show(graph_teams_stat_bars(team_stats, 'podium_score_yearly'))"
     ],
     "language": "python",
     "metadata": {},
     "outputs": []
    },
    {
     "cell_type": "code",
     "collapsed": false,
     "input": [
      "matches = get_matches(with_team_stats=True,\n",
      "                      duplicate_with_reversed=duplicate_with_reversed,\n",
      "                      exclude_ties=exclude_ties)\n",
      "        \n",
      "matches"
     ],
     "language": "python",
     "metadata": {},
     "outputs": []
    },
    {
     "cell_type": "code",
     "collapsed": false,
     "input": [
      "show(graph_matches_results_scatter(matches, 'matches_won_percent', 'matches_won_percent_2'))"
     ],
     "language": "python",
     "metadata": {},
     "outputs": []
    },
    {
     "cell_type": "code",
     "collapsed": false,
     "input": [
      "show(graph_matches_results_scatter(matches, 'podium_score_yearly', 'podium_score_yearly_2'))"
     ],
     "language": "python",
     "metadata": {},
     "outputs": []
    },
    {
     "cell_type": "code",
     "collapsed": false,
     "input": [
      "inputs, outputs = extract_samples(matches,\n",
      "                                  input_features,\n",
      "                                  output_feature)\n",
      "\n",
      "normalizer, inputs = normalize(inputs)\n",
      "\n",
      "train_inputs, train_outputs, test_inputs, test_outputs = split_samples(inputs, outputs)\n",
      "\n",
      "classifier = KNeighborsClassifier(n_neighbors=neighbors)\n",
      "classifier.fit(train_inputs, train_outputs)\n",
      "\n",
      "classifier.score(test_inputs, test_outputs)"
     ],
     "language": "python",
     "metadata": {},
     "outputs": []
    },
    {
     "cell_type": "code",
     "collapsed": false,
     "input": [
      "def predict(year, team1, team2):\n",
      "    inputs = []\n",
      "    \n",
      "    for feature in input_features:\n",
      "        from_team_2 = '_2' in feature\n",
      "        feature = feature.replace('_2', '')\n",
      "        \n",
      "        if feature in team_stats.columns.values:\n",
      "            team = team2 if from_team_2 else team1\n",
      "            value = team_stats.loc[team, feature]\n",
      "        elif feature == 'year':\n",
      "            value = year\n",
      "        else:\n",
      "            raise ValueError(\"Don't know where to get feature: \" + feature)\n",
      "            \n",
      "        inputs.append(value)\n",
      "        \n",
      "    inputs = normalizer.transform(inputs)\n",
      "    result = classifier.predict(inputs)\n",
      "    \n",
      "    if result == 0:\n",
      "        return 'tie'\n",
      "    elif result == 1:\n",
      "        return team1\n",
      "    elif result == 2:\n",
      "        return team2\n",
      "    else:\n",
      "        raise ValueError('Unknown result: ' + str(result))"
     ],
     "language": "python",
     "metadata": {},
     "outputs": []
    },
    {
     "cell_type": "markdown",
     "metadata": {},
     "source": [
      "Some predictions about the past, compared to real results:\n",
      "----------------------------------------------------------\n",
      "\n",
      "Even while we know those results, and the kneighbors classifier has those examples in its state, that doesn't guarantee the real result is what the classifier will predict."
     ]
    },
    {
     "cell_type": "code",
     "collapsed": false,
     "input": [
      "predict(1950, 'Mexico', 'Brazil')  # real result: 4-0 wins brazil"
     ],
     "language": "python",
     "metadata": {},
     "outputs": []
    },
    {
     "cell_type": "code",
     "collapsed": false,
     "input": [
      "predict(1990, 'United Arab Emirates', 'Colombia')  # real result: 2-0 wins Colombia"
     ],
     "language": "python",
     "metadata": {},
     "outputs": []
    },
    {
     "cell_type": "code",
     "collapsed": false,
     "input": [
      "predict(2002, 'South Africa', 'Spain')  # real result: 2-3 wins Spain"
     ],
     "language": "python",
     "metadata": {},
     "outputs": []
    },
    {
     "cell_type": "code",
     "collapsed": false,
     "input": [
      "predict(2010, 'Japan', 'Cameroon')  # real result: 1-0 wins Japan"
     ],
     "language": "python",
     "metadata": {},
     "outputs": []
    },
    {
     "cell_type": "markdown",
     "metadata": {},
     "source": [
      "Some predictions about the future:\n",
      "----------------------------------\n",
      "\n",
      "(at least these where \"future\" at the moment of programming)"
     ]
    },
    {
     "cell_type": "code",
     "collapsed": false,
     "input": [
      "predict(2014, 'Argentina', 'Brazil')"
     ],
     "language": "python",
     "metadata": {},
     "outputs": []
    },
    {
     "cell_type": "code",
     "collapsed": false,
     "input": [
      "predict(2014, 'Spain', 'Haiti')"
     ],
     "language": "python",
     "metadata": {},
     "outputs": []
    },
    {
     "cell_type": "code",
     "collapsed": false,
     "input": [
      "predict(2014, 'Russia', 'Germany')"
     ],
     "language": "python",
     "metadata": {},
     "outputs": []
    }
   ],
   "metadata": {}
  }
 ]
}