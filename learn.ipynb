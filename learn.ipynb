{
 "metadata": {
  "name": "",
  "signature": "sha256:6b7c702cabbd679da2abc30be02f967074de6d95f54fbe68691aa3536c41cc77"
 },
 "nbformat": 3,
 "nbformat_minor": 0,
 "worksheets": [
  {
   "cells": [
    {
     "cell_type": "code",
     "collapsed": false,
     "input": [
      "from random import random\n",
      "\n",
      "from IPython.display import SVG\n",
      "import pygal\n",
      "from sklearn.neighbors import KNeighborsClassifier\n",
      "\n",
      "from utils import get_matches, get_team_stats, extract_samples, normalize, split_samples, graph_teams_stat_bars, graph_matches_results_scatter"
     ],
     "language": "python",
     "metadata": {},
     "outputs": []
    },
    {
     "cell_type": "markdown",
     "metadata": {},
     "source": [
      "Configs:"
     ]
    },
    {
     "cell_type": "code",
     "collapsed": false,
     "input": [
      "input_features = ['year',\n",
      "                  'matches_won_percent',\n",
      "                  'podium_score_yearly',\n",
      "                  'matches_won_percent_2',\n",
      "                  'podium_score_yearly_2']\n",
      "\n",
      "output_feature = 'winner'\n",
      "\n",
      "remove_ties = True\n",
      "\n",
      "neighbors = 10"
     ],
     "language": "python",
     "metadata": {},
     "outputs": []
    },
    {
     "cell_type": "code",
     "collapsed": false,
     "input": [
      "def show(graph):\n",
      "    return SVG(graph.render())"
     ],
     "language": "python",
     "metadata": {},
     "outputs": []
    },
    {
     "cell_type": "code",
     "collapsed": false,
     "input": [
      "team_stats = get_team_stats()\n",
      "team_stats"
     ],
     "language": "python",
     "metadata": {},
     "outputs": []
    },
    {
     "cell_type": "code",
     "collapsed": false,
     "input": [
      "show(graph_teams_stat_bars(team_stats, 'matches_won_percent'))\n"
     ],
     "language": "python",
     "metadata": {},
     "outputs": []
    },
    {
     "cell_type": "code",
     "collapsed": false,
     "input": [
      "show(graph_teams_stat_bars(team_stats, 'podium_score_yearly'))"
     ],
     "language": "python",
     "metadata": {},
     "outputs": []
    },
    {
     "cell_type": "code",
     "collapsed": false,
     "input": [
      "matches = get_matches(with_team_stats=True,\n",
      "                      duplicate_with_reversed=True)\n",
      "\n",
      "if remove_ties:\n",
      "    matches = matches[matches['score1'] != matches['score2']]\n",
      "        \n",
      "matches"
     ],
     "language": "python",
     "metadata": {},
     "outputs": []
    },
    {
     "cell_type": "code",
     "collapsed": false,
     "input": [
      "show(graph_matches_results_scatter(matches, 'matches_won_percent', 'matches_won_percent_2'))"
     ],
     "language": "python",
     "metadata": {},
     "outputs": []
    },
    {
     "cell_type": "code",
     "collapsed": false,
     "input": [
      "show(graph_matches_results_scatter(matches, 'podium_score_yearly', 'podium_score_yearly_2'))"
     ],
     "language": "python",
     "metadata": {},
     "outputs": []
    },
    {
     "cell_type": "code",
     "collapsed": false,
     "input": [
      "inputs, outputs = extract_samples(matches,\n",
      "                                  input_features,\n",
      "                                  output_feature)\n",
      "\n",
      "normalizer, inputs = normalize(inputs)\n",
      "\n",
      "train_inputs, train_outputs, test_inputs, test_outputs = split_samples(inputs, outputs)\n",
      "\n",
      "classifier = KNeighborsClassifier(n_neighbors=neighbors)\n",
      "classifier.fit(train_inputs, train_outputs)\n",
      "\n",
      "classifier.score(test_inputs, test_outputs)"
     ],
     "language": "python",
     "metadata": {},
     "outputs": []
    }
   ],
   "metadata": {}
  }
 ]
}