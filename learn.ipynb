{
 "metadata": {
  "name": "",
  "signature": "sha256:6ff2b77ab73384cd76e0ae0d6bde912e70f544d587ef71200938f358b04bf12b"
 },
 "nbformat": 3,
 "nbformat_minor": 0,
 "worksheets": [
  {
   "cells": [
    {
     "cell_type": "code",
     "collapsed": false,
     "input": [
      "from random import random\n",
      "\n",
      "from IPython.display import SVG\n",
      "import pygal\n",
      "from sklearn.neighbors import KNeighborsClassifier\n",
      "\n",
      "from utils import get_matches, get_team_stats, extract_samples, normalize, split_samples"
     ],
     "language": "python",
     "metadata": {},
     "outputs": []
    },
    {
     "cell_type": "markdown",
     "metadata": {},
     "source": [
      "Configs:"
     ]
    },
    {
     "cell_type": "code",
     "collapsed": false,
     "input": [
      "input_features = ['year',\n",
      "                  'matches_won_percent',\n",
      "                  'podium_score_yearly',\n",
      "                  'matches_won_percent_2',\n",
      "                  'podium_score_yearly_2']\n",
      "\n",
      "output_feature = 'winner'\n",
      "\n",
      "remove_ties = True\n",
      "\n",
      "neighbors = 10"
     ],
     "language": "python",
     "metadata": {},
     "outputs": []
    },
    {
     "cell_type": "code",
     "collapsed": false,
     "input": [
      "team_stats = get_team_stats()\n",
      "team_stats"
     ],
     "language": "python",
     "metadata": {},
     "outputs": []
    },
    {
     "cell_type": "code",
     "collapsed": false,
     "input": [
      "def teams_by_stat_graph(stat):\n",
      "    sorted_team_stats = team_stats.sort(stat)\n",
      "    graph = pygal.Bar(show_legend=False,\n",
      "                      title='Teams by ' + stat,\n",
      "                      x_title='team',\n",
      "                      y_title=stat,\n",
      "                      print_values=False)\n",
      "    graph.x_labels = list(sorted_team_stats.index)\n",
      "    graph.add(stat, sorted_team_stats[stat])\n",
      "\n",
      "    return SVG(graph.render())"
     ],
     "language": "python",
     "metadata": {},
     "outputs": []
    },
    {
     "cell_type": "code",
     "collapsed": false,
     "input": [
      "teams_by_stat_graph('matches_won_percent')\n"
     ],
     "language": "python",
     "metadata": {},
     "outputs": []
    },
    {
     "cell_type": "code",
     "collapsed": false,
     "input": [
      "teams_by_stat_graph('podium_score_yearly')"
     ],
     "language": "python",
     "metadata": {},
     "outputs": []
    },
    {
     "cell_type": "code",
     "collapsed": false,
     "input": [
      "matches = get_matches(with_team_stats=True,\n",
      "                      duplicate_with_reversed=True)\n",
      "\n",
      "if remove_ties:\n",
      "        matches = matches[matches['score1'] != matches['score2']]\n",
      "        \n",
      "matches"
     ],
     "language": "python",
     "metadata": {},
     "outputs": []
    },
    {
     "cell_type": "code",
     "collapsed": false,
     "input": [
      "def graph_results(feature_x, feature_y):\n",
      "    wins1 = matches[matches.score1 > matches.score2]\n",
      "    wins2 = matches[matches.score1 < matches.score2]\n",
      "    ties = matches[matches.score1 == matches.score2]\n",
      "    \n",
      "    graph = pygal.XY(stroke=False,\n",
      "                     title='Results dispersion by %s, %s' % (feature_x, feature_y),\n",
      "                     x_title=feature_x,\n",
      "                     y_title=feature_y,\n",
      "                     print_values=False)\n",
      "    graph.add('wins 1', zip(wins1[feature_x], wins1[feature_y]))\n",
      "    graph.add('wins 2', zip(wins2[feature_x], wins2[feature_y]))\n",
      "    graph.add('ties', zip(ties[feature_x], ties[feature_y]))\n",
      "    \n",
      "    return SVG(graph.render())"
     ],
     "language": "python",
     "metadata": {},
     "outputs": []
    },
    {
     "cell_type": "code",
     "collapsed": false,
     "input": [
      "graph_results('matches_won_percent', 'matches_won_percent_2')"
     ],
     "language": "python",
     "metadata": {},
     "outputs": []
    },
    {
     "cell_type": "code",
     "collapsed": false,
     "input": [
      "graph_results('podium_score_yearly', 'podium_score_yearly_2')"
     ],
     "language": "python",
     "metadata": {},
     "outputs": []
    },
    {
     "cell_type": "code",
     "collapsed": false,
     "input": [
      "inputs, outputs = extract_samples(matches,\n",
      "                                  input_features,\n",
      "                                  output_feature)\n",
      "\n",
      "normalizer, inputs = normalize(inputs)\n",
      "\n",
      "train_inputs, train_outputs, test_inputs, test_outputs = split_samples(inputs, outputs)\n",
      "\n",
      "classifier = KNeighborsClassifier(n_neighbors=neighbors)\n",
      "classifier.fit(train_inputs, train_outputs)\n",
      "\n",
      "classifier.score(test_inputs, test_outputs)"
     ],
     "language": "python",
     "metadata": {},
     "outputs": []
    }
   ],
   "metadata": {}
  }
 ]
}